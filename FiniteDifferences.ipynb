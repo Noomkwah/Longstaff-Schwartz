{
 "cells": [
  {
   "cell_type": "code",
   "execution_count": 1,
   "id": "6a448c22",
   "metadata": {},
   "outputs": [],
   "source": [
    "import numpy as np\n",
    "\n",
    "from option import Option"
   ]
  },
  {
   "cell_type": "code",
   "execution_count": 2,
   "id": "793c532b",
   "metadata": {},
   "outputs": [],
   "source": [
    "class FiniteDifferencesPricer:\n",
    "    \"\"\"\n",
    "    Finite Differences pricer based on the Black Scholes Model.\n",
    "    \"\"\"\n",
    "    \n",
    "    ############################### INIT ####################################\n",
    "    def __init__(self, verbose=False):\n",
    "        \n",
    "        self.verbose = verbose\n",
    "        \n",
    "        \n",
    "    def setMarketParameters(self, r, sigma, T, x_min, x_max):\n",
    "        self.r = r\n",
    "        self.sigma = sigma\n",
    "        self.T = T\n",
    "        self.x_min = x_min\n",
    "        self.x_max = x_max\n",
    "    \n",
    "    \n",
    "    def setMesh(self, I, N):\n",
    "        self.I = I\n",
    "        self.N = N\n",
    "        \n",
    "        self.h = (self.x_max - self.x_min)/self.I\n",
    "        self.dt = self.T/self.N\n",
    "        \n",
    "        self.x = np.linspace(self.x_min, self.x_max, self.I+1)\n",
    "        self.t = np.linspace(0, self.T, self.N+1)\n",
    "    #########################################################################\n",
    "    \n",
    "    ####################### TOOLS FOR SIMULATIONS ###########################\n",
    "    def compute_A(self):\n",
    "        self.alpha = self.sigma**2/(2 * self.h**2) * self.x**2\n",
    "        self.beta = self.r/(2 * self.h) * self.x\n",
    "        \n",
    "        sub_diag = (- self.alpha + self.beta)[2:self.I+1]\n",
    "        main_diag = 2 * self.alpha[1:self.I+1] + self.r\n",
    "        sup_diag = (- self.alpha - self.beta)[1:self.I]\n",
    "        self.A = np.diag(sub_diag, k=-1) + np.diag(main_diag) + np.diag(sup_diag, k=1)\n",
    "    \n",
    "    def compute_q(self, t, option):\n",
    "        q = np.zeros(self.I)\n",
    "        q[0] = (- self.alpha[1] + self.beta[1]) * option.left_boundary(t, self.x_min)\n",
    "        q[-1] = (- self.alpha[self.I] - self.beta[self.I]) * option.right_boundary(t, self.x_max)\n",
    "        \n",
    "        return q\n",
    "\n",
    "    def interpolate(self, x_val, U):\n",
    "        i = np.searchsorted(self.x, x_val, side='right') - 1\n",
    "        return (self.x[i+1] - x_val)/self.h * U[i] + (x_val - self.x[i])/self.h * U[i+1]\n",
    "    #########################################################################\n",
    "    \n",
    "    \n",
    "    ############################## FINITE SCHEMES ###########################\n",
    "    def computeEulerScheme(self, U_0, option):\n",
    "        \n",
    "        self.compute_A()\n",
    "        U = np.zeros((self.N+1, self.I))\n",
    "        U[0] = U_0\n",
    "        for n in range(self.N):\n",
    "            U[n+1] = np.linalg.solve(self.dt * self.A + np.eye(self.I), U[n] - self.dt * self.compute_q(self.t[n], option))\n",
    "\n",
    "        return U[self.N]\n",
    "    \n",
    "    def computeBDFScheme(self, U_0, option):\n",
    "        \n",
    "        self.compute_A()\n",
    "        U_1 = np.maximum(U_0, np.linalg.solve(self.dt * self.A + np.eye(self.I), U_0 - self.dt * self.compute_q(self.dt, option)))\n",
    "        \n",
    "        U = np.zeros((self.N+1, self.I))\n",
    "        U[0] = U_0\n",
    "        U[1] = U_1\n",
    "        for n in range(1, self.N):\n",
    "            \n",
    "            # We want to solve M U^(n+1) = N U^n + P U^(n-1) + Q\n",
    "            M = 3 * np.eye(self.I) + 2 * self.dt * self.A\n",
    "            N, P = 4, -1\n",
    "            Q = -2 * self.dt * self.compute_q(self.t[n] + self.dt, option)\n",
    "            \n",
    "            U[n+1] = np.maximum(U_0, np.linalg.solve(M, N*U[n] + P * U[n-1] + Q))\n",
    "        \n",
    "        return U[self.N]\n",
    "    #########################################################################\n",
    "    \n",
    "    def price(self, option, x_val):\n",
    "        \n",
    "        g = option(self.x[:-1])\n",
    "        \n",
    "        if option.kind == 'European':\n",
    "            U = self.computeEulerScheme(g, option)\n",
    "        elif option.kind == 'American':\n",
    "            U = self.computeBDFScheme(g, option)\n",
    "            \n",
    "        return self.interpolate(x_val, U)"
   ]
  },
  {
   "cell_type": "markdown",
   "id": "3d91cf56",
   "metadata": {},
   "source": [
    "## American Put Option"
   ]
  },
  {
   "cell_type": "code",
   "execution_count": 3,
   "id": "a2362fb0",
   "metadata": {},
   "outputs": [],
   "source": [
    "def put_payoff(x, strike=40):\n",
    "    return np.maximum(strike - x, 0)\n",
    "\n",
    "def put_left_condition(t, x_min, strike=40):\n",
    "    return np.maximum(strike - x_min, 0)\n",
    "\n",
    "def put_right_condition(t, x_max):\n",
    "    return 0"
   ]
  },
  {
   "cell_type": "code",
   "execution_count": 4,
   "id": "593565a9",
   "metadata": {},
   "outputs": [],
   "source": [
    "pricer = FiniteDifferencesPricer()\n",
    "pricer.setMarketParameters(r=0.06, sigma=0.2, T=1, x_min=1, x_max=100)\n",
    "pricer.setMesh(I=128, N=1280)"
   ]
  },
  {
   "cell_type": "code",
   "execution_count": 5,
   "id": "7dcf227c",
   "metadata": {
    "scrolled": true
   },
   "outputs": [
    {
     "data": {
      "text/plain": [
       "3.8791155221963165"
      ]
     },
     "execution_count": 5,
     "metadata": {},
     "output_type": "execute_result"
    }
   ],
   "source": [
    "put_option = Option(payoff = put_payoff,\n",
    "                    maturity = 1.,\n",
    "                    kind = 'European',\n",
    "                    exercising_times = np.array([1.]),\n",
    "                    left_boundary = put_left_condition,\n",
    "                    right_boundary = put_right_condition)\n",
    "pricer.price(put_option, 36)"
   ]
  },
  {
   "cell_type": "code",
   "execution_count": 6,
   "id": "4a690b72",
   "metadata": {},
   "outputs": [
    {
     "data": {
      "text/plain": [
       "4.520821880633168"
      ]
     },
     "execution_count": 6,
     "metadata": {},
     "output_type": "execute_result"
    }
   ],
   "source": [
    "put_option = Option(payoff = put_payoff,\n",
    "                    maturity = 1.,\n",
    "                    kind = 'American',\n",
    "                    exercising_times = np.array([1.]),\n",
    "                    left_boundary = put_left_condition,\n",
    "                    right_boundary = put_right_condition)\n",
    "pricer.price(put_option, 36)"
   ]
  },
  {
   "cell_type": "markdown",
   "id": "07f5c328",
   "metadata": {},
   "source": [
    "## American square put options"
   ]
  },
  {
   "cell_type": "code",
   "execution_count": 7,
   "id": "410a975e",
   "metadata": {},
   "outputs": [],
   "source": [
    "def square_payoff(x, strike=40):\n",
    "    return np.maximum(strike**2 - x**2, 0)\n",
    "\n",
    "def square_left_condition(t, x_min, strike=40):\n",
    "    return np.maximum(strike**2 - x_min**2, 0)\n",
    "\n",
    "def square_right_condition(t, x_max):\n",
    "    return 0"
   ]
  },
  {
   "cell_type": "code",
   "execution_count": 8,
   "id": "6ae1e053",
   "metadata": {},
   "outputs": [],
   "source": [
    "pricer = FiniteDifferencesPricer()\n",
    "pricer.setMarketParameters(r=0.06, sigma=0.2, T=1, x_min=1, x_max=100)\n",
    "pricer.setMesh(I=128, N=1280)"
   ]
  },
  {
   "cell_type": "code",
   "execution_count": 9,
   "id": "9521bcc1",
   "metadata": {},
   "outputs": [
    {
     "data": {
      "text/plain": [
       "273.94301307236094"
      ]
     },
     "execution_count": 9,
     "metadata": {},
     "output_type": "execute_result"
    }
   ],
   "source": [
    "square_option = Option(payoff = square_payoff,\n",
    "                       maturity = 1.,\n",
    "                       kind = 'European',\n",
    "                       exercising_times = np.array([1.]),\n",
    "                       left_boundary = square_left_condition,\n",
    "                       right_boundary = square_right_condition)\n",
    "pricer.price(square_option, 36)"
   ]
  },
  {
   "cell_type": "code",
   "execution_count": 10,
   "id": "5dd3f436",
   "metadata": {},
   "outputs": [
    {
     "data": {
      "text/plain": [
       "333.27792807294253"
      ]
     },
     "execution_count": 10,
     "metadata": {},
     "output_type": "execute_result"
    }
   ],
   "source": [
    "square_option = Option(payoff = square_payoff,\n",
    "                       maturity = 1.,\n",
    "                       kind = 'American',\n",
    "                       exercising_times = np.array([1.]),\n",
    "                       left_boundary = square_left_condition,\n",
    "                       right_boundary = square_right_condition)\n",
    "pricer.price(square_option, 36)"
   ]
  }
 ],
 "metadata": {
  "kernelspec": {
   "display_name": "Python 3 (ipykernel)",
   "language": "python",
   "name": "python3"
  },
  "language_info": {
   "codemirror_mode": {
    "name": "ipython",
    "version": 3
   },
   "file_extension": ".py",
   "mimetype": "text/x-python",
   "name": "python",
   "nbconvert_exporter": "python",
   "pygments_lexer": "ipython3",
   "version": "3.10.9"
  }
 },
 "nbformat": 4,
 "nbformat_minor": 5
}
