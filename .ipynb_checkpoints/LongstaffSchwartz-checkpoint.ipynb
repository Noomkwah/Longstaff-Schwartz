{
 "cells": [
  {
   "cell_type": "code",
   "execution_count": 1,
   "id": "1958e9a2",
   "metadata": {},
   "outputs": [],
   "source": [
    "import numpy as np\n",
    "from scipy.special import laguerre\n",
    "\n",
    "from diffusion import MonteCarloPaths, BlackScholesModel, LocalVolatilityModel\n",
    "from option import Option"
   ]
  },
  {
   "cell_type": "code",
   "execution_count": 2,
   "id": "0b31a213",
   "metadata": {},
   "outputs": [],
   "source": [
    "class LongstaffSchwartzPricer:\n",
    "    \n",
    "    ############################### INIT #####################################\n",
    "    def __init__(self, verbose=False):\n",
    "        \n",
    "        self.verbose = verbose\n",
    "        \n",
    "    \n",
    "    def setMarketParameters(self, r):\n",
    "        self.r = r\n",
    "    ##########################################################################\n",
    "    \n",
    "    \n",
    "    ########################### COMPUTE OPTION PRICE #########################\n",
    "    def computeConditionalExpectation(self, X, y, method='Canonical', M=5):\n",
    "\n",
    "        if X.size == 0:\n",
    "            return lambda x: 0\n",
    "        \n",
    "        weighted_polys = np.vstack((np.exp(-X/2) * np.array([laguerre(k)(X) for k in range(M)]), np.ones_like(X)))\n",
    "        beta = np.linalg.lstsq(weighted_polys.T, y, rcond=-1)[0]\n",
    "        return lambda X: beta@np.vstack((np.exp(-X/2) * np.array([laguerre(k)(X) for k in range(M)]), np.ones_like(X)))\n",
    "\n",
    "    \n",
    "    def computeCashFlows(self, mc_paths: MonteCarloPaths, option: Option):\n",
    "        \n",
    "        times = mc_paths.times\n",
    "        paths = mc_paths.paths\n",
    "        exercising_times = times if option.kind == 'American' else option.exercising_times\n",
    "        \n",
    "        N_exe_times = len(exercising_times)\n",
    "        N_paths = paths.shape[-1]\n",
    "            \n",
    "        exercising_indexes = np.where(np.in1d(times, exercising_times))[0]\n",
    "        cash_flows = np.zeros((N_exe_times, N_paths))\n",
    "        cash_flows[N_exe_times-1] = option.payoff(paths[exercising_indexes[N_exe_times-1]])\n",
    "        \n",
    "        for t in range(N_exe_times-2, 0, -1):\n",
    "            ITM_paths = option.payoff(paths[exercising_indexes[t]]) > 0\n",
    "            \n",
    "            X = paths[exercising_indexes[t], ITM_paths]\n",
    "            X_scaled = X/X[0] if X.size > 0 else X # rescaling X to avoid numerical underflow\n",
    "            \n",
    "            # discount factors over period T to t\n",
    "            y = np.exp(-self.r * (exercising_times[t+1:] - exercising_times[t]))@cash_flows[t+1:, ITM_paths]\n",
    "            \n",
    "            cond_exp = self.computeConditionalExpectation(X_scaled, y)\n",
    "            \n",
    "            delayed_exercise = cond_exp(X_scaled)\n",
    "            early_exercise = option.payoff(X)\n",
    "            \n",
    "            # Among the ITM paths, these are the paths were immediate exercise is optimal\n",
    "            early_is_optimal = early_exercise > delayed_exercise\n",
    "            ITM_early_paths = ITM_paths.copy()\n",
    "            ITM_early_paths[ITM_paths] = early_is_optimal\n",
    "            \n",
    "            cash_flows[t, ITM_early_paths] = early_exercise[early_is_optimal]\n",
    "            cash_flows[t+1:, ITM_early_paths] = 0\n",
    "            \n",
    "        discounting_factors = np.exp(- self.r * (exercising_times - times[0])) # we are looking from time 0.\n",
    "        cash_flows = discounting_factors@cash_flows\n",
    "        \n",
    "        return cash_flows\n",
    "        \n",
    "        \n",
    "    def price(self, option: Option, mc_paths: MonteCarloPaths = None):\n",
    "        cash_flows = self.computeCashFlows(mc_paths, option)\n",
    "        price = cash_flows.mean()\n",
    "        \n",
    "        return price        "
   ]
  },
  {
   "cell_type": "markdown",
   "id": "d0943187",
   "metadata": {},
   "source": [
    "## American Put Option"
   ]
  },
  {
   "cell_type": "code",
   "execution_count": 3,
   "id": "45bd5485",
   "metadata": {},
   "outputs": [],
   "source": [
    "def put_payoff(x, strike=40):\n",
    "    return np.maximum(strike - x, 0)"
   ]
  },
  {
   "cell_type": "code",
   "execution_count": 4,
   "id": "39d3f485",
   "metadata": {
    "scrolled": true
   },
   "outputs": [
    {
     "name": "stdout",
     "output_type": "stream",
     "text": [
      "0 1 2 3 4 5 6 7 8 9 10 11 12 13 14 15 16 17 18 19 20 21 22 23 24 25 26 27 28 29 30 31 32 33 34 35 36 37 38 39 40 41 42 43 44 45 46 47 48 49 50 51 52 53 54 55 56 57 58 59 60 61 62 63 64 65 66 67 68 69 70 71 72 73 74 75 76 77 78 79 80 81 82 83 84 85 86 87 88 89 90 91 92 93 94 95 96 97 98\n"
     ]
    }
   ],
   "source": [
    "model = BlackScholesModel(r=0.06, sigma=0.2, verbose=True)\n",
    "mc_paths = model.diffuse(T=1, x0=36)"
   ]
  },
  {
   "cell_type": "code",
   "execution_count": 5,
   "id": "109517c4",
   "metadata": {},
   "outputs": [
    {
     "data": {
      "text/plain": [
       "3.842120169909046"
      ]
     },
     "execution_count": 5,
     "metadata": {},
     "output_type": "execute_result"
    }
   ],
   "source": [
    "pricer = LongstaffSchwartzPricer(verbose=True)\n",
    "pricer.setMarketParameters(r=0.06)\n",
    "\n",
    "put_option = Option(payoff = put_payoff,\n",
    "                    maturity = 1.,\n",
    "                    kind = 'European',\n",
    "                    exercising_times = np.array([1.]))\n",
    "pricer.price(put_option, mc_paths)"
   ]
  },
  {
   "cell_type": "code",
   "execution_count": 6,
   "id": "e1319778",
   "metadata": {},
   "outputs": [
    {
     "data": {
      "text/plain": [
       "4.484636091734611"
      ]
     },
     "execution_count": 6,
     "metadata": {},
     "output_type": "execute_result"
    }
   ],
   "source": [
    "pricer = LongstaffSchwartzPricer(verbose=True)\n",
    "pricer.setMarketParameters(r=0.06)\n",
    "\n",
    "put_option = Option(payoff = put_payoff,\n",
    "                    maturity = 1.,\n",
    "                    kind = 'American',\n",
    "                    exercising_times = np.array([1.]))\n",
    "pricer.price(put_option, mc_paths)"
   ]
  },
  {
   "cell_type": "code",
   "execution_count": 7,
   "id": "4ce89671",
   "metadata": {
    "scrolled": true
   },
   "outputs": [
    {
     "name": "stdout",
     "output_type": "stream",
     "text": [
      "0 1 2 3 4 5 6 7 8 9 10 11 12 13 14 15 16 17 18 19 20 21 22 23 24 25 26 27 28 29 30 31 32 33 34 35 36 37 38 39 40 41 42 43 44 45 46 47 48 49 50 51 52 53 54 55 56 57 58 59 60 61 62 63 64 65 66 67 68 69 70 71 72 73 74 75 76 77 78 79 80 81 82 83 84 85 86 87 88 89 90 91 92 93 94 95 96 97 98\n"
     ]
    }
   ],
   "source": [
    "model = LocalVolatilityModel(r=0.06, sigma=lambda t, x: 1/(1+np.exp(x/40)), verbose=True)\n",
    "mc_paths = model.diffuse(T=1, x0=36)"
   ]
  },
  {
   "cell_type": "code",
   "execution_count": 8,
   "id": "049c132b",
   "metadata": {},
   "outputs": [
    {
     "data": {
      "text/plain": [
       "4.963745910128443"
      ]
     },
     "execution_count": 8,
     "metadata": {},
     "output_type": "execute_result"
    }
   ],
   "source": [
    "pricer = LongstaffSchwartzPricer(verbose=True)\n",
    "pricer.setMarketParameters(r=0.06)\n",
    "\n",
    "put_option = Option(payoff = put_payoff,\n",
    "                    maturity = 1.,\n",
    "                    kind = 'European',\n",
    "                    exercising_times = np.array([1.]))\n",
    "pricer.price(put_option, mc_paths)"
   ]
  },
  {
   "cell_type": "code",
   "execution_count": 9,
   "id": "acea1c5e",
   "metadata": {},
   "outputs": [
    {
     "data": {
      "text/plain": [
       "5.415409302988977"
      ]
     },
     "execution_count": 9,
     "metadata": {},
     "output_type": "execute_result"
    }
   ],
   "source": [
    "pricer = LongstaffSchwartzPricer(verbose=True)\n",
    "pricer.setMarketParameters(r=0.06)\n",
    "\n",
    "put_option = Option(payoff = put_payoff,\n",
    "                    maturity = 1.,\n",
    "                    kind = 'American',\n",
    "                    exercising_times = np.array([1.]))\n",
    "pricer.price(put_option, mc_paths)"
   ]
  },
  {
   "cell_type": "markdown",
   "id": "be8e4b70",
   "metadata": {},
   "source": [
    "## American square put options"
   ]
  },
  {
   "cell_type": "code",
   "execution_count": 10,
   "id": "ca9ebeea",
   "metadata": {},
   "outputs": [],
   "source": [
    "def square_payoff(x, strike=40):\n",
    "    return np.maximum(strike**2 - x**2, 0)"
   ]
  },
  {
   "cell_type": "code",
   "execution_count": 11,
   "id": "a01faf38",
   "metadata": {},
   "outputs": [
    {
     "name": "stdout",
     "output_type": "stream",
     "text": [
      "0 1 2 3 4 5 6 7 8 9 10 11 12 13 14 15 16 17 18 19 20 21 22 23 24 25 26 27 28 29 30 31 32 33 34 35 36 37 38 39 40 41 42 43 44 45 46 47 48 49 50 51 52 53 54 55 56 57 58 59 60 61 62 63 64 65 66 67 68 69 70 71 72 73 74 75 76 77 78 79 80 81 82 83 84 85 86 87 88 89 90 91 92 93 94 95 96 97 98\n"
     ]
    }
   ],
   "source": [
    "model = BlackScholesModel(r=0.06, sigma=0.2, verbose=True)\n",
    "mc_paths = model.diffuse(T=1, x0=36)\n",
    "pricer = LongstaffSchwartzPricer(verbose=True)\n",
    "pricer.setMarketParameters(r=0.06)"
   ]
  },
  {
   "cell_type": "code",
   "execution_count": 12,
   "id": "30dddd77",
   "metadata": {},
   "outputs": [
    {
     "data": {
      "text/plain": [
       "272.0954248042218"
      ]
     },
     "execution_count": 12,
     "metadata": {},
     "output_type": "execute_result"
    }
   ],
   "source": [
    "square_option = Option(payoff = square_payoff,\n",
    "                       maturity = 1.,\n",
    "                       kind = 'European',\n",
    "                       exercising_times = np.array([1.]))\n",
    "pricer.price(square_option, mc_paths)"
   ]
  },
  {
   "cell_type": "code",
   "execution_count": 13,
   "id": "db075e87",
   "metadata": {},
   "outputs": [
    {
     "data": {
      "text/plain": [
       "330.80752963714207"
      ]
     },
     "execution_count": 13,
     "metadata": {},
     "output_type": "execute_result"
    }
   ],
   "source": [
    "square_option = Option(payoff = square_payoff,\n",
    "                       maturity = 1.,\n",
    "                       kind = 'American',\n",
    "                       exercising_times = np.array([1.]))\n",
    "pricer.price(square_option, mc_paths)"
   ]
  }
 ],
 "metadata": {
  "kernelspec": {
   "display_name": "Python 3 (ipykernel)",
   "language": "python",
   "name": "python3"
  },
  "language_info": {
   "codemirror_mode": {
    "name": "ipython",
    "version": 3
   },
   "file_extension": ".py",
   "mimetype": "text/x-python",
   "name": "python",
   "nbconvert_exporter": "python",
   "pygments_lexer": "ipython3",
   "version": "3.10.9"
  }
 },
 "nbformat": 4,
 "nbformat_minor": 5
}
