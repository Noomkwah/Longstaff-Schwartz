{
 "cells": [
  {
   "cell_type": "code",
   "execution_count": null,
   "id": "e0f06902",
   "metadata": {},
   "outputs": [],
   "source": [
    "import numpy as np"
   ]
  },
  {
   "cell_type": "code",
   "execution_count": null,
   "id": "7266e388",
   "metadata": {},
   "outputs": [],
   "source": [
    "class Option:\n",
    "    \n",
    "    Allowed_kinds = ['European', 'Bermudean', 'American']\n",
    "    def __init__(self, payoff, maturity, kind='European', exercising_times=[], left_boundary=None, right_boundary=None):\n",
    "        \n",
    "        assert kind in Option.Allowed_kinds, f\"Option kind must be one of {Option.Allowed_kinds}.\"\n",
    "        if maturity not in exercising_times:\n",
    "                raise ValueError(f\"Maturity is not in the passed exercising times. exercising_times = {exercising_times}\")\n",
    "                \n",
    "        self.payoff = payoff\n",
    "        self.maturity = maturity\n",
    "        self.kind = kind\n",
    "        self.exercising_times = exercising_times\n",
    "        \n",
    "        self.left_boundary = left_boundary\n",
    "        self.right_boundary = right_boundary\n",
    "    \n",
    "    def __call__(self, x):\n",
    "        return self.payoff(x)\n",
    "    \n",
    "    def is_exercisable(self, t):\n",
    "        european_condition = (self.kind == 'European' and t == self.maturity)\n",
    "        bermudean_condition = (self.kind == 'Bermudean' and t in self.exercising_times)\n",
    "        american_condition = (self.kind == 'American' and t <= self.maturity)\n",
    "        \n",
    "        return european_condition or bermudean_condition or american_condition"
   ]
  }
 ],
 "metadata": {
  "kernelspec": {
   "display_name": "Python 3 (ipykernel)",
   "language": "python",
   "name": "python3"
  },
  "language_info": {
   "codemirror_mode": {
    "name": "ipython",
    "version": 3
   },
   "file_extension": ".py",
   "mimetype": "text/x-python",
   "name": "python",
   "nbconvert_exporter": "python",
   "pygments_lexer": "ipython3",
   "version": "3.10.9"
  }
 },
 "nbformat": 4,
 "nbformat_minor": 5
}
